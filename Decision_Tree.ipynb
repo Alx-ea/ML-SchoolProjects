{
  "nbformat": 4,
  "nbformat_minor": 0,
  "metadata": {
    "colab": {
      "provenance": []
    },
    "kernelspec": {
      "name": "python3",
      "display_name": "Python 3"
    },
    "language_info": {
      "name": "python"
    }
  },
  "cells": [
    {
      "cell_type": "code",
      "source": [
        "import pandas as pd\n",
        "import numpy as np\n",
        "from sklearn.datasets import load_iris\n",
        "from sklearn.metrics import accuracy_score\n",
        "from sklearn.model_selection import train_test_split\n",
        "from sklearn.tree import DecisionTreeClassifier\n",
        "\n",
        "# Reading the Iris.csv file\n",
        "data = load_iris()\n",
        "\n",
        "# Extracting Attributes / Features\n",
        "X = data.data\n",
        "\n",
        "# Extracting Target / Class Labels\n",
        "y = data.target\n",
        "\n",
        "# Creating Train and Test datasets\n",
        "X_train, X_test, y_train, y_test = train_test_split(X,y, random_state = 50, test_size = 0.25, shuffle=True)\n",
        "\n",
        "# Creating Decision Tree Classifier\n",
        "\n",
        "DT = DecisionTreeClassifier()\n",
        "DT.fit(X_train,y_train)\n",
        "\n",
        "# Predict Accuracy Score\n",
        "y_pred = DT.predict(X_test)\n",
        "\n",
        "\n",
        "#print(\"Train data accuracy:\",accuracy_score(y_true = y_train, y_pred=DT.predict(X_train)))\n",
        "#print(\"Test data accuracy:\",accuracy_score(y_true = y_test, y_pred=y_pred))\n",
        "\n",
        "new_X = np.array([1, 2, 0, 3]).reshape(1, -1)\n",
        "y_pred = DT.predict(new_X)\n",
        "y_pred"
      ],
      "metadata": {
        "id": "RtcO-W8WQ3MQ",
        "colab": {
          "base_uri": "https://localhost:8080/"
        },
        "outputId": "bc263155-71b8-4532-d7c4-e0d70f251c10"
      },
      "execution_count": null,
      "outputs": [
        {
          "output_type": "execute_result",
          "data": {
            "text/plain": [
              "array([2])"
            ]
          },
          "metadata": {},
          "execution_count": 9
        }
      ]
    },
    {
      "cell_type": "code",
      "source": [
        "from sklearn.tree import export_text\n",
        "import pandas as pd\n",
        "import numpy as np\n",
        "from sklearn.datasets import load_iris\n",
        "from sklearn.metrics import accuracy_score\n",
        "from sklearn.model_selection import train_test_split\n",
        "from sklearn.tree import DecisionTreeClassifier\n",
        "\n",
        "# Reading the Iris.csv file\n",
        "data = load_iris()\n",
        "\n",
        "# Extracting Attributes / Features\n",
        "X = data.data\n",
        "\n",
        "# Extracting Target / Class Labels\n",
        "y = data.target\n",
        "\n",
        "# Creating Train and Test datasets\n",
        "X_train, X_test, y_train, y_test = train_test_split(X,y, random_state = 50, test_size = 0.25, shuffle=True)\n",
        "\n",
        "# Creating Decision Tree Classifier\n",
        "\n",
        "DT = DecisionTreeClassifier()\n",
        "DT.fit(X_train,y_train)\n",
        "\n",
        "r = export_text(DT, feature_names=data['feature_names'])\n",
        "print(r)\n",
        "\n",
        "# Predict Accuracy Score\n",
        "#y_pred = DT.predict(X_test)\n",
        "\n",
        "\n",
        "\n",
        "\n",
        "#print(\"Train data accuracy:\",accuracy_score(y_true = y_train, y_pred=DT.predict(X_train)))\n",
        "#print(\"Test data accuracy:\",accuracy_score(y_true = y_test, y_pred=y_pred))\n",
        "\n",
        "#new_X = np.array([1, 2, 0, 3]).reshape(1, -1)\n",
        "#y_pred = DT.predict(new_X)\n",
        "#y_pred\n",
        "\n"
      ],
      "metadata": {
        "colab": {
          "base_uri": "https://localhost:8080/"
        },
        "id": "wGZ1RPB1wWiZ",
        "outputId": "e4393d4a-0fa6-4834-b3b4-1f2a894dddaa"
      },
      "execution_count": null,
      "outputs": [
        {
          "output_type": "stream",
          "name": "stdout",
          "text": [
            "|--- petal length (cm) <= 2.60\n",
            "|   |--- class: 0\n",
            "|--- petal length (cm) >  2.60\n",
            "|   |--- petal width (cm) <= 1.65\n",
            "|   |   |--- petal length (cm) <= 5.00\n",
            "|   |   |   |--- class: 1\n",
            "|   |   |--- petal length (cm) >  5.00\n",
            "|   |   |   |--- sepal length (cm) <= 6.05\n",
            "|   |   |   |   |--- class: 1\n",
            "|   |   |   |--- sepal length (cm) >  6.05\n",
            "|   |   |   |   |--- class: 2\n",
            "|   |--- petal width (cm) >  1.65\n",
            "|   |   |--- petal length (cm) <= 4.85\n",
            "|   |   |   |--- sepal width (cm) <= 3.10\n",
            "|   |   |   |   |--- class: 2\n",
            "|   |   |   |--- sepal width (cm) >  3.10\n",
            "|   |   |   |   |--- class: 1\n",
            "|   |   |--- petal length (cm) >  4.85\n",
            "|   |   |   |--- class: 2\n",
            "\n"
          ]
        }
      ]
    },
    {
      "cell_type": "code",
      "source": [
        "import graphviz\n",
        "from sklearn.tree import export_text\n",
        "import pandas as pd\n",
        "import numpy as np\n",
        "from sklearn.datasets import load_iris\n",
        "from sklearn.metrics import accuracy_score\n",
        "from sklearn.model_selection import train_test_split\n",
        "from sklearn.tree import DecisionTreeClassifier\n",
        "from sklearn import tree\n",
        "\n",
        "# Reading the Iris.csv file\n",
        "data = load_iris()\n",
        "\n",
        "# Extracting Attributes / Features\n",
        "X = data.data\n",
        "\n",
        "# Extracting Target / Class Labels\n",
        "y = data.target\n",
        "\n",
        "# Creating Train and Test datasets\n",
        "X_train, X_test, y_train, y_test = train_test_split(X,y, random_state = 50, test_size = 0.25, shuffle=True)\n",
        "\n",
        "# Creating Decision Tree Classifier\n",
        "\n",
        "DT = DecisionTreeClassifier()\n",
        "DT.fit(X_train,y_train)\n",
        "\n",
        "dot_data = tree.export_graphviz(DT)\n",
        "graph = graphviz.Source(dot_data)\n",
        "graph"
      ],
      "metadata": {
        "colab": {
          "base_uri": "https://localhost:8080/",
          "height": 657
        },
        "id": "RPlvvF1HxUSX",
        "outputId": "3437b3bd-b21f-4328-eeac-d333bf3e73d6"
      },
      "execution_count": null,
      "outputs": [
        {
          "output_type": "execute_result",
          "data": {
            "image/svg+xml": "<?xml version=\"1.0\" encoding=\"UTF-8\" standalone=\"no\"?>\n<!DOCTYPE svg PUBLIC \"-//W3C//DTD SVG 1.1//EN\"\n \"http://www.w3.org/Graphics/SVG/1.1/DTD/svg11.dtd\">\n<!-- Generated by graphviz version 2.43.0 (0)\n -->\n<!-- Title: Tree Pages: 1 -->\n<svg width=\"522pt\" height=\"477pt\"\n viewBox=\"0.00 0.00 522.00 477.00\" xmlns=\"http://www.w3.org/2000/svg\" xmlns:xlink=\"http://www.w3.org/1999/xlink\">\n<g id=\"graph0\" class=\"graph\" transform=\"scale(1 1) rotate(0) translate(4 473)\">\n<title>Tree</title>\n<polygon fill=\"white\" stroke=\"transparent\" points=\"-4,4 -4,-473 518,-473 518,4 -4,4\"/>\n<!-- 0 -->\n<g id=\"node1\" class=\"node\">\n<title>0</title>\n<polygon fill=\"none\" stroke=\"black\" points=\"251.5,-469 119.5,-469 119.5,-401 251.5,-401 251.5,-469\"/>\n<text text-anchor=\"middle\" x=\"185.5\" y=\"-453.8\" font-family=\"Helvetica,sans-Serif\" font-size=\"14.00\">x[3] &lt;= 0.8</text>\n<text text-anchor=\"middle\" x=\"185.5\" y=\"-438.8\" font-family=\"Helvetica,sans-Serif\" font-size=\"14.00\">gini = 0.666</text>\n<text text-anchor=\"middle\" x=\"185.5\" y=\"-423.8\" font-family=\"Helvetica,sans-Serif\" font-size=\"14.00\">samples = 112</text>\n<text text-anchor=\"middle\" x=\"185.5\" y=\"-408.8\" font-family=\"Helvetica,sans-Serif\" font-size=\"14.00\">value = [39, 35, 38]</text>\n</g>\n<!-- 1 -->\n<g id=\"node2\" class=\"node\">\n<title>1</title>\n<polygon fill=\"none\" stroke=\"black\" points=\"175,-357.5 58,-357.5 58,-304.5 175,-304.5 175,-357.5\"/>\n<text text-anchor=\"middle\" x=\"116.5\" y=\"-342.3\" font-family=\"Helvetica,sans-Serif\" font-size=\"14.00\">gini = 0.0</text>\n<text text-anchor=\"middle\" x=\"116.5\" y=\"-327.3\" font-family=\"Helvetica,sans-Serif\" font-size=\"14.00\">samples = 39</text>\n<text text-anchor=\"middle\" x=\"116.5\" y=\"-312.3\" font-family=\"Helvetica,sans-Serif\" font-size=\"14.00\">value = [39, 0, 0]</text>\n</g>\n<!-- 0&#45;&gt;1 -->\n<g id=\"edge1\" class=\"edge\">\n<title>0&#45;&gt;1</title>\n<path fill=\"none\" stroke=\"black\" d=\"M163.1,-400.88C155.51,-389.67 147.03,-377.13 139.4,-365.85\"/>\n<polygon fill=\"black\" stroke=\"black\" points=\"142.27,-363.84 133.76,-357.52 136.47,-367.76 142.27,-363.84\"/>\n<text text-anchor=\"middle\" x=\"129.03\" y=\"-378.37\" font-family=\"Helvetica,sans-Serif\" font-size=\"14.00\">True</text>\n</g>\n<!-- 2 -->\n<g id=\"node3\" class=\"node\">\n<title>2</title>\n<polygon fill=\"none\" stroke=\"black\" points=\"318,-365 193,-365 193,-297 318,-297 318,-365\"/>\n<text text-anchor=\"middle\" x=\"255.5\" y=\"-349.8\" font-family=\"Helvetica,sans-Serif\" font-size=\"14.00\">x[3] &lt;= 1.65</text>\n<text text-anchor=\"middle\" x=\"255.5\" y=\"-334.8\" font-family=\"Helvetica,sans-Serif\" font-size=\"14.00\">gini = 0.499</text>\n<text text-anchor=\"middle\" x=\"255.5\" y=\"-319.8\" font-family=\"Helvetica,sans-Serif\" font-size=\"14.00\">samples = 73</text>\n<text text-anchor=\"middle\" x=\"255.5\" y=\"-304.8\" font-family=\"Helvetica,sans-Serif\" font-size=\"14.00\">value = [0, 35, 38]</text>\n</g>\n<!-- 0&#45;&gt;2 -->\n<g id=\"edge2\" class=\"edge\">\n<title>0&#45;&gt;2</title>\n<path fill=\"none\" stroke=\"black\" d=\"M208.23,-400.88C214.16,-392.24 220.62,-382.82 226.82,-373.79\"/>\n<polygon fill=\"black\" stroke=\"black\" points=\"229.87,-375.52 232.65,-365.3 224.1,-371.56 229.87,-375.52\"/>\n<text text-anchor=\"middle\" x=\"237.22\" y=\"-386.18\" font-family=\"Helvetica,sans-Serif\" font-size=\"14.00\">False</text>\n</g>\n<!-- 3 -->\n<g id=\"node4\" class=\"node\">\n<title>3</title>\n<polygon fill=\"none\" stroke=\"black\" points=\"247,-261 130,-261 130,-193 247,-193 247,-261\"/>\n<text text-anchor=\"middle\" x=\"188.5\" y=\"-245.8\" font-family=\"Helvetica,sans-Serif\" font-size=\"14.00\">x[2] &lt;= 5.0</text>\n<text text-anchor=\"middle\" x=\"188.5\" y=\"-230.8\" font-family=\"Helvetica,sans-Serif\" font-size=\"14.00\">gini = 0.149</text>\n<text text-anchor=\"middle\" x=\"188.5\" y=\"-215.8\" font-family=\"Helvetica,sans-Serif\" font-size=\"14.00\">samples = 37</text>\n<text text-anchor=\"middle\" x=\"188.5\" y=\"-200.8\" font-family=\"Helvetica,sans-Serif\" font-size=\"14.00\">value = [0, 34, 3]</text>\n</g>\n<!-- 2&#45;&gt;3 -->\n<g id=\"edge3\" class=\"edge\">\n<title>2&#45;&gt;3</title>\n<path fill=\"none\" stroke=\"black\" d=\"M233.75,-296.88C228.07,-288.24 221.88,-278.82 215.95,-269.79\"/>\n<polygon fill=\"black\" stroke=\"black\" points=\"218.79,-267.74 210.37,-261.3 212.94,-271.58 218.79,-267.74\"/>\n</g>\n<!-- 8 -->\n<g id=\"node9\" class=\"node\">\n<title>8</title>\n<polygon fill=\"none\" stroke=\"black\" points=\"382,-261 265,-261 265,-193 382,-193 382,-261\"/>\n<text text-anchor=\"middle\" x=\"323.5\" y=\"-245.8\" font-family=\"Helvetica,sans-Serif\" font-size=\"14.00\">x[2] &lt;= 4.85</text>\n<text text-anchor=\"middle\" x=\"323.5\" y=\"-230.8\" font-family=\"Helvetica,sans-Serif\" font-size=\"14.00\">gini = 0.054</text>\n<text text-anchor=\"middle\" x=\"323.5\" y=\"-215.8\" font-family=\"Helvetica,sans-Serif\" font-size=\"14.00\">samples = 36</text>\n<text text-anchor=\"middle\" x=\"323.5\" y=\"-200.8\" font-family=\"Helvetica,sans-Serif\" font-size=\"14.00\">value = [0, 1, 35]</text>\n</g>\n<!-- 2&#45;&gt;8 -->\n<g id=\"edge8\" class=\"edge\">\n<title>2&#45;&gt;8</title>\n<path fill=\"none\" stroke=\"black\" d=\"M277.58,-296.88C283.34,-288.24 289.62,-278.82 295.64,-269.79\"/>\n<polygon fill=\"black\" stroke=\"black\" points=\"298.67,-271.56 301.3,-261.3 292.84,-267.68 298.67,-271.56\"/>\n</g>\n<!-- 4 -->\n<g id=\"node5\" class=\"node\">\n<title>4</title>\n<polygon fill=\"none\" stroke=\"black\" points=\"117,-149.5 0,-149.5 0,-96.5 117,-96.5 117,-149.5\"/>\n<text text-anchor=\"middle\" x=\"58.5\" y=\"-134.3\" font-family=\"Helvetica,sans-Serif\" font-size=\"14.00\">gini = 0.0</text>\n<text text-anchor=\"middle\" x=\"58.5\" y=\"-119.3\" font-family=\"Helvetica,sans-Serif\" font-size=\"14.00\">samples = 33</text>\n<text text-anchor=\"middle\" x=\"58.5\" y=\"-104.3\" font-family=\"Helvetica,sans-Serif\" font-size=\"14.00\">value = [0, 33, 0]</text>\n</g>\n<!-- 3&#45;&gt;4 -->\n<g id=\"edge4\" class=\"edge\">\n<title>3&#45;&gt;4</title>\n<path fill=\"none\" stroke=\"black\" d=\"M146.29,-192.88C131.15,-181.01 114.13,-167.65 99.13,-155.88\"/>\n<polygon fill=\"black\" stroke=\"black\" points=\"101.05,-152.94 91.03,-149.52 96.73,-158.45 101.05,-152.94\"/>\n</g>\n<!-- 5 -->\n<g id=\"node6\" class=\"node\">\n<title>5</title>\n<polygon fill=\"none\" stroke=\"black\" points=\"245.5,-157 135.5,-157 135.5,-89 245.5,-89 245.5,-157\"/>\n<text text-anchor=\"middle\" x=\"190.5\" y=\"-141.8\" font-family=\"Helvetica,sans-Serif\" font-size=\"14.00\">x[0] &lt;= 6.05</text>\n<text text-anchor=\"middle\" x=\"190.5\" y=\"-126.8\" font-family=\"Helvetica,sans-Serif\" font-size=\"14.00\">gini = 0.375</text>\n<text text-anchor=\"middle\" x=\"190.5\" y=\"-111.8\" font-family=\"Helvetica,sans-Serif\" font-size=\"14.00\">samples = 4</text>\n<text text-anchor=\"middle\" x=\"190.5\" y=\"-96.8\" font-family=\"Helvetica,sans-Serif\" font-size=\"14.00\">value = [0, 1, 3]</text>\n</g>\n<!-- 3&#45;&gt;5 -->\n<g id=\"edge5\" class=\"edge\">\n<title>3&#45;&gt;5</title>\n<path fill=\"none\" stroke=\"black\" d=\"M189.15,-192.88C189.31,-184.78 189.48,-175.98 189.65,-167.47\"/>\n<polygon fill=\"black\" stroke=\"black\" points=\"193.15,-167.37 189.85,-157.3 186.15,-167.23 193.15,-167.37\"/>\n</g>\n<!-- 6 -->\n<g id=\"node7\" class=\"node\">\n<title>6</title>\n<polygon fill=\"none\" stroke=\"black\" points=\"118.5,-53 8.5,-53 8.5,0 118.5,0 118.5,-53\"/>\n<text text-anchor=\"middle\" x=\"63.5\" y=\"-37.8\" font-family=\"Helvetica,sans-Serif\" font-size=\"14.00\">gini = 0.0</text>\n<text text-anchor=\"middle\" x=\"63.5\" y=\"-22.8\" font-family=\"Helvetica,sans-Serif\" font-size=\"14.00\">samples = 1</text>\n<text text-anchor=\"middle\" x=\"63.5\" y=\"-7.8\" font-family=\"Helvetica,sans-Serif\" font-size=\"14.00\">value = [0, 1, 0]</text>\n</g>\n<!-- 5&#45;&gt;6 -->\n<g id=\"edge6\" class=\"edge\">\n<title>5&#45;&gt;6</title>\n<path fill=\"none\" stroke=\"black\" d=\"M146.08,-88.95C133.17,-79.34 119.1,-68.87 106.3,-59.34\"/>\n<polygon fill=\"black\" stroke=\"black\" points=\"108.2,-56.4 98.09,-53.24 104.02,-62.01 108.2,-56.4\"/>\n</g>\n<!-- 7 -->\n<g id=\"node8\" class=\"node\">\n<title>7</title>\n<polygon fill=\"none\" stroke=\"black\" points=\"246.5,-53 136.5,-53 136.5,0 246.5,0 246.5,-53\"/>\n<text text-anchor=\"middle\" x=\"191.5\" y=\"-37.8\" font-family=\"Helvetica,sans-Serif\" font-size=\"14.00\">gini = 0.0</text>\n<text text-anchor=\"middle\" x=\"191.5\" y=\"-22.8\" font-family=\"Helvetica,sans-Serif\" font-size=\"14.00\">samples = 3</text>\n<text text-anchor=\"middle\" x=\"191.5\" y=\"-7.8\" font-family=\"Helvetica,sans-Serif\" font-size=\"14.00\">value = [0, 0, 3]</text>\n</g>\n<!-- 5&#45;&gt;7 -->\n<g id=\"edge7\" class=\"edge\">\n<title>5&#45;&gt;7</title>\n<path fill=\"none\" stroke=\"black\" d=\"M190.85,-88.95C190.94,-80.72 191.03,-71.85 191.12,-63.48\"/>\n<polygon fill=\"black\" stroke=\"black\" points=\"194.62,-63.27 191.23,-53.24 187.62,-63.2 194.62,-63.27\"/>\n</g>\n<!-- 9 -->\n<g id=\"node10\" class=\"node\">\n<title>9</title>\n<polygon fill=\"none\" stroke=\"black\" points=\"378.5,-157 268.5,-157 268.5,-89 378.5,-89 378.5,-157\"/>\n<text text-anchor=\"middle\" x=\"323.5\" y=\"-141.8\" font-family=\"Helvetica,sans-Serif\" font-size=\"14.00\">x[1] &lt;= 3.1</text>\n<text text-anchor=\"middle\" x=\"323.5\" y=\"-126.8\" font-family=\"Helvetica,sans-Serif\" font-size=\"14.00\">gini = 0.375</text>\n<text text-anchor=\"middle\" x=\"323.5\" y=\"-111.8\" font-family=\"Helvetica,sans-Serif\" font-size=\"14.00\">samples = 4</text>\n<text text-anchor=\"middle\" x=\"323.5\" y=\"-96.8\" font-family=\"Helvetica,sans-Serif\" font-size=\"14.00\">value = [0, 1, 3]</text>\n</g>\n<!-- 8&#45;&gt;9 -->\n<g id=\"edge9\" class=\"edge\">\n<title>8&#45;&gt;9</title>\n<path fill=\"none\" stroke=\"black\" d=\"M323.5,-192.88C323.5,-184.78 323.5,-175.98 323.5,-167.47\"/>\n<polygon fill=\"black\" stroke=\"black\" points=\"327,-167.3 323.5,-157.3 320,-167.3 327,-167.3\"/>\n</g>\n<!-- 12 -->\n<g id=\"node13\" class=\"node\">\n<title>12</title>\n<polygon fill=\"none\" stroke=\"black\" points=\"514,-149.5 397,-149.5 397,-96.5 514,-96.5 514,-149.5\"/>\n<text text-anchor=\"middle\" x=\"455.5\" y=\"-134.3\" font-family=\"Helvetica,sans-Serif\" font-size=\"14.00\">gini = 0.0</text>\n<text text-anchor=\"middle\" x=\"455.5\" y=\"-119.3\" font-family=\"Helvetica,sans-Serif\" font-size=\"14.00\">samples = 32</text>\n<text text-anchor=\"middle\" x=\"455.5\" y=\"-104.3\" font-family=\"Helvetica,sans-Serif\" font-size=\"14.00\">value = [0, 0, 32]</text>\n</g>\n<!-- 8&#45;&gt;12 -->\n<g id=\"edge12\" class=\"edge\">\n<title>8&#45;&gt;12</title>\n<path fill=\"none\" stroke=\"black\" d=\"M366.36,-192.88C381.73,-181.01 399.02,-167.65 414.25,-155.88\"/>\n<polygon fill=\"black\" stroke=\"black\" points=\"416.7,-158.4 422.47,-149.52 412.42,-152.86 416.7,-158.4\"/>\n</g>\n<!-- 10 -->\n<g id=\"node11\" class=\"node\">\n<title>10</title>\n<polygon fill=\"none\" stroke=\"black\" points=\"377.5,-53 267.5,-53 267.5,0 377.5,0 377.5,-53\"/>\n<text text-anchor=\"middle\" x=\"322.5\" y=\"-37.8\" font-family=\"Helvetica,sans-Serif\" font-size=\"14.00\">gini = 0.0</text>\n<text text-anchor=\"middle\" x=\"322.5\" y=\"-22.8\" font-family=\"Helvetica,sans-Serif\" font-size=\"14.00\">samples = 3</text>\n<text text-anchor=\"middle\" x=\"322.5\" y=\"-7.8\" font-family=\"Helvetica,sans-Serif\" font-size=\"14.00\">value = [0, 0, 3]</text>\n</g>\n<!-- 9&#45;&gt;10 -->\n<g id=\"edge10\" class=\"edge\">\n<title>9&#45;&gt;10</title>\n<path fill=\"none\" stroke=\"black\" d=\"M323.15,-88.95C323.06,-80.72 322.97,-71.85 322.88,-63.48\"/>\n<polygon fill=\"black\" stroke=\"black\" points=\"326.38,-63.2 322.77,-53.24 319.38,-63.27 326.38,-63.2\"/>\n</g>\n<!-- 11 -->\n<g id=\"node12\" class=\"node\">\n<title>11</title>\n<polygon fill=\"none\" stroke=\"black\" points=\"505.5,-53 395.5,-53 395.5,0 505.5,0 505.5,-53\"/>\n<text text-anchor=\"middle\" x=\"450.5\" y=\"-37.8\" font-family=\"Helvetica,sans-Serif\" font-size=\"14.00\">gini = 0.0</text>\n<text text-anchor=\"middle\" x=\"450.5\" y=\"-22.8\" font-family=\"Helvetica,sans-Serif\" font-size=\"14.00\">samples = 1</text>\n<text text-anchor=\"middle\" x=\"450.5\" y=\"-7.8\" font-family=\"Helvetica,sans-Serif\" font-size=\"14.00\">value = [0, 1, 0]</text>\n</g>\n<!-- 9&#45;&gt;11 -->\n<g id=\"edge11\" class=\"edge\">\n<title>9&#45;&gt;11</title>\n<path fill=\"none\" stroke=\"black\" d=\"M367.92,-88.95C380.83,-79.34 394.9,-68.87 407.7,-59.34\"/>\n<polygon fill=\"black\" stroke=\"black\" points=\"409.98,-62.01 415.91,-53.24 405.8,-56.4 409.98,-62.01\"/>\n</g>\n</g>\n</svg>\n",
            "text/plain": [
              "<graphviz.sources.Source at 0x7da8e5246b90>"
            ]
          },
          "metadata": {},
          "execution_count": 4
        }
      ]
    }
  ]
}