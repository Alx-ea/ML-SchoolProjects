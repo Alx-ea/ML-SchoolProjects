{
  "nbformat": 4,
  "nbformat_minor": 0,
  "metadata": {
    "colab": {
      "provenance": []
    },
    "kernelspec": {
      "name": "python3",
      "display_name": "Python 3"
    },
    "language_info": {
      "name": "python"
    }
  },
  "cells": [
    {
      "cell_type": "markdown",
      "source": [
        "Text Cleaning: Removing unnecessary characters like punctuations, special characters\n"
      ],
      "metadata": {
        "id": "0XSOFYP7Rtz8"
      }
    },
    {
      "cell_type": "code",
      "source": [
        "import string\n",
        "\n",
        "text = \"Hello, World! This is an example.\"\n",
        "clean_text = text.translate(str.maketrans('', '', string.punctuation))\n",
        "print(clean_text)"
      ],
      "metadata": {
        "colab": {
          "base_uri": "https://localhost:8080/"
        },
        "id": "vjvetYGYP-Mm",
        "outputId": "f4a1ee15-5a90-4068-e867-fb4e20e7b573"
      },
      "execution_count": null,
      "outputs": [
        {
          "output_type": "stream",
          "name": "stdout",
          "text": [
            "Hello World This is an example\n"
          ]
        }
      ]
    },
    {
      "cell_type": "markdown",
      "source": [
        "Lowercasing"
      ],
      "metadata": {
        "id": "MmCSBaf-P2YT"
      }
    },
    {
      "cell_type": "code",
      "execution_count": null,
      "metadata": {
        "colab": {
          "base_uri": "https://localhost:8080/"
        },
        "id": "1UqKNmocPKs6",
        "outputId": "ae104b04-a537-4c88-fea6-ec28c89f4199"
      },
      "outputs": [
        {
          "output_type": "stream",
          "name": "stdout",
          "text": [
            "this is an example of lowercasing.\n"
          ]
        }
      ],
      "source": [
        "text = \"This is an Example of Lowercasing.\"\n",
        "lowercase_text = text.lower()\n",
        "print(lowercase_text)\n"
      ]
    },
    {
      "cell_type": "markdown",
      "source": [
        "Tokenizing:"
      ],
      "metadata": {
        "id": "S3ACaK9OS2eA"
      }
    },
    {
      "cell_type": "code",
      "source": [
        "import nltk\n",
        "from nltk.tokenize import word_tokenize\n",
        "nltk.download('punkt')\n",
        "\n",
        "text = \"Natural Language Processing is fascinating.\"\n",
        "tokens = word_tokenize(text)\n",
        "print(tokens)"
      ],
      "metadata": {
        "id": "SkfoeYElSsGc"
      },
      "execution_count": null,
      "outputs": []
    },
    {
      "cell_type": "markdown",
      "source": [
        "Part-of-Speech Tagging:\n",
        "\n",
        "JJ: Adjective - A word that describes a noun or pronoun, such as 'big', 'happy', 'fast'.\n",
        "\n",
        "NNP: Proper Noun, Singular - Refers to specific names of people, places, organizations, etc., like 'London', 'Einstein', 'Google'.\n",
        "\n",
        "VBZ: Verb, 3rd Person Singular Present - Denotes an action or a state in the third person singular form in the present tense, like 'runs', 'eats', 'has'.\n",
        "\n",
        "VBG: Verb, Gerund or Present Participle - A verb form that either acts as a noun (gerund) or as an adjective (present participle), ending in -ing, such as 'running', 'eating', 'singing'.\n",
        "\n",
        "NN: Noun, Singular or Mass - A word that refers to a person, place, thing, or idea, like 'dog', 'emotion', 'sky'.\n",
        "\n",
        "VBN: Verb, Past Participle - A form of a verb typically used in perfect tenses and sometimes as an adjective, like 'broken', 'seen', 'known'.\n",
        "\n",
        "PRP: Personal Pronoun - Refers to pronouns that are associated with a specific person or thing, including 'I', 'you', 'he', 'she', 'it', 'we', 'they'.\n",
        "\n",
        "RB: Adverb - A word that modifies a verb, an adjective, or another adverb, often ending in -ly, like 'quickly', 'very', 'well'."
      ],
      "metadata": {
        "id": "Q8-qX2JlT52o"
      }
    },
    {
      "cell_type": "code",
      "source": [
        "import nltk\n",
        "nltk.download('punkt')\n",
        "nltk.download('averaged_perceptron_tagger')\n",
        "from nltk import pos_tag\n",
        "from nltk.tokenize import word_tokenize\n",
        "\n",
        "text = \"Natural Language Processing involves understanding text and speech. It is scientifically recognized method\"\n",
        "tokens = word_tokenize(text)\n",
        "pos_tags = pos_tag(tokens)\n",
        "print(pos_tags)\n"
      ],
      "metadata": {
        "id": "E2hzLwzST5SU",
        "colab": {
          "base_uri": "https://localhost:8080/"
        },
        "outputId": "916b7f33-ad2c-4010-d8be-5e4f529629f6"
      },
      "execution_count": null,
      "outputs": [
        {
          "output_type": "stream",
          "name": "stderr",
          "text": [
            "[nltk_data] Downloading package punkt to /root/nltk_data...\n",
            "[nltk_data]   Unzipping tokenizers/punkt.zip.\n",
            "[nltk_data] Downloading package averaged_perceptron_tagger to\n",
            "[nltk_data]     /root/nltk_data...\n",
            "[nltk_data]   Unzipping taggers/averaged_perceptron_tagger.zip.\n"
          ]
        },
        {
          "output_type": "stream",
          "name": "stdout",
          "text": [
            "[('Natural', 'JJ'), ('Language', 'NNP'), ('Processing', 'NNP'), ('involves', 'VBZ'), ('understanding', 'VBG'), ('text', 'NN'), ('and', 'CC'), ('speech', 'NN'), ('.', '.'), ('It', 'PRP'), ('is', 'VBZ'), ('scientifically', 'RB'), ('recognized', 'VBN'), ('method', 'NN')]\n"
          ]
        }
      ]
    },
    {
      "cell_type": "markdown",
      "source": [
        "Stop Words Removal: Eliminating comonly used words like \"is\", \"the\", \"a\" etc."
      ],
      "metadata": {
        "id": "JKbZ5JG1W6U0"
      }
    },
    {
      "cell_type": "code",
      "source": [
        "import nltk\n",
        "nltk.download('stopwords')\n",
        "from nltk.corpus import stopwords\n",
        "from nltk.tokenize import word_tokenize\n",
        "\n",
        "text = \"This is an example of stop words removal.\"\n",
        "stop_words = set(stopwords.words('english'))\n",
        "tokens = word_tokenize(text)\n",
        "filtered_text = [word for word in tokens if word.lower() not in stop_words]\n",
        "print(filtered_text)\n"
      ],
      "metadata": {
        "colab": {
          "base_uri": "https://localhost:8080/"
        },
        "id": "oIzJjrToW5en",
        "outputId": "94fd6415-8bb7-44ba-d2ba-a2e1ffbc0f6a"
      },
      "execution_count": null,
      "outputs": [
        {
          "output_type": "stream",
          "name": "stdout",
          "text": [
            "['example', 'stop', 'words', 'removal', '.']\n"
          ]
        },
        {
          "output_type": "stream",
          "name": "stderr",
          "text": [
            "[nltk_data] Downloading package stopwords to /root/nltk_data...\n",
            "[nltk_data]   Package stopwords is already up-to-date!\n"
          ]
        },
        {
          "output_type": "stream",
          "name": "stdout",
          "text": [
            "['example', 'stop', 'words', 'removal', '.']\n"
          ]
        },
        {
          "output_type": "stream",
          "name": "stderr",
          "text": [
            "[nltk_data] Downloading package stopwords to /root/nltk_data...\n",
            "[nltk_data]   Package stopwords is already up-to-date!\n"
          ]
        }
      ]
    }
  ]
}