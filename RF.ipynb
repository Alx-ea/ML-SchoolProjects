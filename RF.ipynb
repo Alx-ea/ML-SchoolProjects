{
  "nbformat": 4,
  "nbformat_minor": 0,
  "metadata": {
    "colab": {
      "provenance": []
    },
    "kernelspec": {
      "name": "python3",
      "display_name": "Python 3"
    },
    "language_info": {
      "name": "python"
    }
  },
  "cells": [
    {
      "cell_type": "code",
      "execution_count": null,
      "metadata": {
        "colab": {
          "base_uri": "https://localhost:8080/"
        },
        "id": "-mIQVKPlieO7",
        "outputId": "8e7b00fa-ba65-434c-93c7-3eb02c29f6f6"
      },
      "outputs": [
        {
          "output_type": "stream",
          "name": "stdout",
          "text": [
            "Decision Tree Accuracy: 0.9333333333333333\n",
            "Random Forest Accuracy: 0.9666666666666667\n"
          ]
        }
      ],
      "source": [
        "import numpy as np\n",
        "from sklearn import datasets\n",
        "from sklearn.model_selection import train_test_split\n",
        "from sklearn.ensemble import RandomForestClassifier\n",
        "from sklearn.tree import DecisionTreeClassifier\n",
        "from sklearn.metrics import accuracy_score\n",
        "\n",
        "# Load the Iris dataset\n",
        "iris = datasets.load_iris()\n",
        "X = iris.data\n",
        "y = iris.target\n",
        "\n",
        "# Split the dataset into a training set and a test set\n",
        "X_train, X_test, y_train, y_test = train_test_split(X, y, test_size=0.2, random_state=6)\n",
        "\n",
        "# Create and train the Decision Tree model\n",
        "dtree = DecisionTreeClassifier(random_state=42)\n",
        "dtree.fit(X_train, y_train)\n",
        "\n",
        "# Create and train the Random Forest model\n",
        "rf = RandomForestClassifier(n_estimators=100, random_state=42)\n",
        "rf.fit(X_train, y_train)\n",
        "\n",
        "# Make predictions with both models\n",
        "dtree_predictions = dtree.predict(X_test)\n",
        "rf_predictions = rf.predict(X_test)\n",
        "\n",
        "# Calculate and print the accuracy of each model\n",
        "dtree_accuracy = accuracy_score(y_test, dtree_predictions)\n",
        "rf_accuracy = accuracy_score(y_test, rf_predictions)\n",
        "\n",
        "print(f\"Decision Tree Accuracy: {dtree_accuracy}\")\n",
        "print(f\"Random Forest Accuracy: {rf_accuracy}\")"
      ]
    }
  ]
}